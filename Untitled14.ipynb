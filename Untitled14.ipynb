{
  "nbformat": 4,
  "nbformat_minor": 0,
  "metadata": {
    "colab": {
      "provenance": []
    },
    "kernelspec": {
      "name": "python3",
      "display_name": "Python 3"
    },
    "language_info": {
      "name": "python"
    }
  },
  "cells": [
    {
      "cell_type": "code",
      "source": [
        "import pandas as pd"
      ],
      "metadata": {
        "id": "-ykXVeHY_DTK"
      },
      "execution_count": 1,
      "outputs": []
    },
    {
      "cell_type": "code",
      "source": [
        "import numpy as np\n",
        "import matplotlib.pyplot as plt"
      ],
      "metadata": {
        "id": "tbxwxicB_C_I"
      },
      "execution_count": 2,
      "outputs": []
    },
    {
      "cell_type": "code",
      "source": [
        "from google.colab import drive\n",
        "drive.mount('/content/drive')"
      ],
      "metadata": {
        "colab": {
          "base_uri": "https://localhost:8080/"
        },
        "id": "W7k4dx_a_uWS",
        "outputId": "2d3de538-5ea7-4706-ebfc-31c3b1c2e191"
      },
      "execution_count": 3,
      "outputs": [
        {
          "output_type": "stream",
          "name": "stdout",
          "text": [
            "Drive already mounted at /content/drive; to attempt to forcibly remount, call drive.mount(\"/content/drive\", force_remount=True).\n"
          ]
        }
      ]
    },
    {
      "cell_type": "code",
      "source": [
        "%cd /content/drive/MyDrive/student_sols\n"
      ],
      "metadata": {
        "colab": {
          "base_uri": "https://localhost:8080/"
        },
        "id": "WrZZvNem_5jL",
        "outputId": "543b367a-933b-478a-b64a-22d98d5434b0"
      },
      "execution_count": 4,
      "outputs": [
        {
          "output_type": "stream",
          "name": "stdout",
          "text": [
            "/content/drive/MyDrive/student_sols\n"
          ]
        }
      ]
    },
    {
      "cell_type": "code",
      "execution_count": null,
      "metadata": {
        "id": "kg5orTdU-_IW"
      },
      "outputs": [],
      "source": [
        "import pandas as pd\n",
        "\n",
        "# Function to retrieve student data based on SAP ID\n",
        "def get_student_data(sap_id):\n",
        "    df = pd.read_excel('student_data.xlsx')\n",
        "    student_data = df[df['SAP ID'] == sap_id]\n",
        "\n",
        "    if student_data.empty:\n",
        "        return \"Invalid SAP ID\"\n",
        "    else:\n",
        "        major = student_data['Major'].values[0]\n",
        "        completed_credits = student_data['Completed Credits'].values[0]\n",
        "        remaining_credits = student_data['Credits Remaining'].values[0]  # Update column name here\n",
        "\n",
        "        return f\"Major: {major}\\nCompleted Credits: {completed_credits}\\nRemaining Credits: {remaining_credits}\"\n",
        "\n",
        "# Get SAP ID from user\n",
        "sap_id = int(input(\"Enter SAP ID: \"))  # Convert input to integer\n",
        "\n",
        "# Retrieve student data\n",
        "result = get_student_data(sap_id)\n",
        "\n",
        "# Display the result\n",
        "print(result)\n"
      ]
    },
    {
      "cell_type": "code",
      "source": [],
      "metadata": {
        "id": "BlqD7BSJRioH"
      },
      "execution_count": null,
      "outputs": []
    }
  ]
}